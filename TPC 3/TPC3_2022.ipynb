{
 "cells": [
  {
   "cell_type": "markdown",
   "metadata": {},
   "source": [
    "## TPC3"
   ]
  },
  {
   "cell_type": "markdown",
   "metadata": {},
   "source": [
    "Pretendemos simular a propagação de ondas sísmicas, na situação simplificada de 1D. A equação de propagação da componente $y$ do deslocamento, $u_y(x,t)$, num meio com densidade $\\rho(x)$ e constante elástica $\\mu(x)$ é:\n",
    "$$\\rho(x) \\frac{\\partial^2 u_y}{\\partial t^2} = \\frac{\\partial}{\\partial x} \\bigg( \\mu(x) \\frac{\\partial u_y}{\\partial x}\\bigg) + f_y,$$\n",
    "\n",
    "onde $f_y(x,t)$ é uma força exteriormente aplicada (algo que dá origem a um sismo, como um deslocamento de placas, ou um desmoronamento sub-aquático). Use um método pseudo-espectral à sua escolha. Deve referir a razão da escolha, comparando com outro(s).\n",
    "Para a força, use a função `ricke`, que se encontra no Moodle, com $f_0$ como frequência central. Como parâmetros use:\n",
    "\n",
    "| Stretch/Untouched | ProbDistribution |\n",
    "| :- | :-: |\n",
    "| $\\rho$ | $2500\\ kg m^{-3}$ |\n",
    "| $\\mu$  | $2.25 \\times 10^{10} kg  m^{-1}s^{-2}$ |\n",
    "| $f_0$  | $100\\ kHz$ |\n",
    "\n",
    "Como é evidente, deve re-escalar a equação.\n",
    "\n",
    "Considere condições fronteira de Dirichelet.\n",
    "\n",
    "Deve submeter, além do código, um pequeno filme, ou conjunto de plots sequenciais, da evolução da perturbação inicial para o caso da alínea (e). Em cada imagem (plot) deve mostrar o tempo e indicar as quantidades representadas.\n",
    "\n",
    "Cada um deve apresentar apenas trabalho seu. Podem usar as rotinas que coloquei no Moodle, ou outras equivalentes que tenham desenvolvido, mesmo que baseados nalguma fonte (mas devem claramente identificar essa fonte(s))."
   ]
  },
  {
   "cell_type": "markdown",
   "metadata": {},
   "source": [
    "a) Escolha um esquema para descretizar a derivada temporal, indicando também que método pretende usar para a evolução temporal. Discuta as vantagens e desvantagens desse método."
   ]
  },
  {
   "cell_type": "code",
   "execution_count": null,
   "metadata": {},
   "outputs": [],
   "source": []
  },
  {
   "cell_type": "markdown",
   "metadata": {},
   "source": [
    "b) Use a rotina `ricker` (ler com cuidado a sua descrição, em particular os argumentos que pede e o respectivo uso, bem como a forma do resultado), de modo a gerar o termo fonte à frequência pretendida."
   ]
  },
  {
   "cell_type": "code",
   "execution_count": null,
   "metadata": {},
   "outputs": [],
   "source": []
  },
  {
   "cell_type": "markdown",
   "metadata": {},
   "source": [
    "c) Use um método espectral à sua escolha para discretizar as derivadas espaciais. Discuta os méritos e deméritos do método escolhido. Implemente um código que realize esta discretização."
   ]
  },
  {
   "cell_type": "code",
   "execution_count": null,
   "metadata": {},
   "outputs": [],
   "source": []
  },
  {
   "cell_type": "markdown",
   "metadata": {},
   "source": [
    "d) Escreva o código que lhe permite evoluir o pacote de ondas no tempo com os ingredientes obtidos nas alíneas anteriores. Teste com os parâmetros da tabela acima, que correspondem a um meio homogéneo (logo, sabe a velocidade de propagação, que é constante em todo o domínio!)"
   ]
  },
  {
   "cell_type": "code",
   "execution_count": null,
   "metadata": {},
   "outputs": [],
   "source": []
  },
  {
   "cell_type": "markdown",
   "metadata": {},
   "source": [
    "e) Simule a situação de um meio não homogéneo. Considere que as funções $\\rho, \\mu$ dependem de $x$, variando numa região estreita, de um valor $p_{\\textrm{min}}=p_0$ a outro $p_{\\textrm{min}}=p_0 + \\Delta p \\equiv p_1.$ Tome, por exemplo,:\n",
    "$\\rho(x) = (\\rho_0 + \\rho_1e^{ax})/(1 + e^{ax}),$\n",
    "onde $a$ é uma constante  positiva, suficientemente grande para fazer que a variação ocorra num intervalo de $5\\%$ do seu domínio.(Considere uma expressão semelhante para $\\mu$.) Tome $\\Delta \\rho/ \\rho= 0.50$ e $\\Delta \\mu/ \\mu= 0.05.$"
   ]
  },
  {
   "cell_type": "code",
   "execution_count": null,
   "metadata": {},
   "outputs": [],
   "source": []
  }
 ],
 "metadata": {
  "kernelspec": {
   "display_name": "Python 3",
   "language": "python",
   "name": "python3"
  },
  "language_info": {
   "codemirror_mode": {
    "name": "ipython",
    "version": 3
   },
   "file_extension": ".py",
   "mimetype": "text/x-python",
   "name": "python",
   "nbconvert_exporter": "python",
   "pygments_lexer": "ipython3",
   "version": "3.9.12"
  }
 },
 "nbformat": 4,
 "nbformat_minor": 4
}
