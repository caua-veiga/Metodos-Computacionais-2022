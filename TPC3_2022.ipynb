{
 "cells": [
  {
   "cell_type": "markdown",
   "metadata": {},
   "source": [
    "## TPC3 - Rafael Machado Salgueiro"
   ]
  },
  {
   "cell_type": "code",
   "execution_count": 7,
   "metadata": {},
   "outputs": [],
   "source": [
    "#imports\n",
    "from numpy import *\n",
    "import matplotlib.pyplot as plt\n",
    "import numpy as np"
   ]
  },
  {
   "cell_type": "markdown",
   "metadata": {},
   "source": [
    "Pretendemos simular a propagação de ondas sísmicas, na situação simplificada de 1D. A equação de propagação da componente $y$ do deslocamento, $u_y(x,t)$, num meio com densidade $\\rho(x)$ e constante elástica $\\mu(x)$ é:\n",
    "$$\\rho(x) \\frac{\\partial^2 u_y}{\\partial t^2} = \\frac{\\partial}{\\partial x} \\bigg( \\mu(x) \\frac{\\partial u_y}{\\partial x}\\bigg) + f_y,$$\n",
    "\n",
    "onde $f_y(x,t)$ é uma força exteriormente aplicada (algo que dá origem a um sismo, como um deslocamento de placas, ou um desmoronamento sub-aquático). Use um método pseudo-espectral à sua escolha. Deve referir a razão da escolha, comparando com outro(s).\n",
    "Para a força, use a função `ricke`, que se encontra no Moodle, com $f_0$ como frequência central. Como parâmetros use:\n",
    "\n",
    "| Stretch/Untouched | ProbDistribution |\n",
    "| :- | :-: |\n",
    "| $\\rho$ | $2500\\ kg m^{-3}$ |\n",
    "| $\\mu$  | $2.25 \\times 10^{10} kg  m^{-1}s^{-2}$ |\n",
    "| $f_0$  | $100\\ kHz$ |\n",
    "\n",
    "Como é evidente, deve re-escalar a equação.\n",
    "\n",
    "Considere condições fronteira de Dirichelet.\n",
    "\n",
    "Deve submeter, além do código, um pequeno filme, ou conjunto de plots sequenciais, da evolução da perturbação inicial para o caso da alínea (e). Em cada imagem (plot) deve mostrar o tempo e indicar as quantidades representadas.\n",
    "\n",
    "Cada um deve apresentar apenas trabalho seu. Podem usar as rotinas que coloquei no Moodle, ou outras equivalentes que tenham desenvolvido, mesmo que baseados nalguma fonte (mas devem claramente identificar essa fonte(s))."
   ]
  },
  {
   "cell_type": "markdown",
   "metadata": {},
   "source": [
    "a) Escolha um esquema para descretizar a derivada temporal, indicando também que método pretende usar para a evolução temporal. Discuta as vantagens e desvantagens desse método."
   ]
  },
  {
   "cell_type": "markdown",
   "metadata": {},
   "source": [
    "Vamos dividir o domínio temporal em $N_t+1$ instantes, de modo que:\n",
    "\n",
    "$$\n",
    "t_i = n\\Delta t,\\ n=0,\\ldots,N_t.\n",
    "$$\n",
    "\n",
    "Com esta descretização a equação acima mencionada fica da seguinte forma:\n",
    "\n",
    "$$\n",
    "\\rho_{i} \\frac{u_{i}^{n+1}-2 u_{i}^{n}+u_{i}^{n-1}}{d t^{2}}=\\partial_{x}\\left(\\mu(x) \\partial_{x} u(x, t)\\right)_{i}^{n}+f_{i}^{n}\n",
    "$$\n",
    "\n",
    "onde se escolheu as diferenças centrais para a segunda derivada no tempo.\n",
    "\n",
    "Para a evolução temporal desta equação irei usar o método explícito. Uma desvantagem do método explícito é este não ser incondicionalmente estável. O método explícito é apenas estável para números de Courante iguais ou inferiores a 1."
   ]
  },
  {
   "cell_type": "markdown",
   "metadata": {},
   "source": [
    "b) Use a rotina `ricker` (ler com cuidado a sua descrição, em particular os argumentos que pede e o respectivo uso, bem como a forma do resultado), de modo a gerar o termo fonte à frequência pretendida."
   ]
  },
  {
   "cell_type": "markdown",
   "metadata": {},
   "source": [
    "A força externa irá atuar apenas num dado ponto do espaço. A função ricker dá os diferentes valores da força nos diferentes instantes de tempo espaçados de dt. A partir da frequência $f_{0}$ determina-se o período (pt) a colocar como argumento nesta função.\n",
    "\n",
    "Neste problema será útil medir o tempo em unidades de $T_0 = \\frac{1}{f_0} = 1 \\times 10^{-5} $ s, pelo que o valor de pt a introduzir na função ricker será sempre igual a 1. Desta forma o valor de $\\mu_0$ passará a ser 2.25 $kgm^{-1}$.\n",
    "\n",
    "De referir também que esta força apenas atua durante o período $T_0$ de forma a haver apenas uma perturbação e não várais, apesar de também se puder fazer essa simulação."
   ]
  },
  {
   "cell_type": "code",
   "execution_count": 8,
   "metadata": {},
   "outputs": [
    {
     "name": "stdout",
     "output_type": "stream",
     "text": [
      "200\n"
     ]
    },
    {
     "data": {
      "image/png": "[encoded data removed]",
      "text/plain": [
       "<Figure size 432x288 with 1 Axes>"
      ]
     },
     "metadata": {
      "needs_background": "light"
     },
     "output_type": "display_data"
    }
   ],
   "source": [
    "def ricker(dt, pt):\n",
    "    \"\"\"\n",
    "    RICKER generate a ricker wavelet\n",
    "    input (dt,pt)\n",
    "    \"\"\"\n",
    "    nt = int(2 * pt / dt)\n",
    "    c = np.zeros(nt)\n",
    "    t0 = pt / dt\n",
    "    a_ricker = 4 / pt\n",
    "\n",
    "    for it in range(0, nt):\n",
    "        t = ((it + 1) - t0) * dt\n",
    "        c[it] = -2 * a_ricker * t * exp(-(a_ricker * t) ** 2)\n",
    "\n",
    "    return c\n",
    "\n",
    "# Visualização da função ricker\n",
    "y = ricker(10/200,5)\n",
    "print(len(y))\n",
    "\n",
    "plt.title(\"Função Ricker\")\n",
    "plt.plot(y)\n",
    "plt.grid()\n",
    "plt.show()"
   ]
  },
  {
   "cell_type": "markdown",
   "metadata": {},
   "source": [
    "c) Use um método espectral à sua escolha para discretizar as derivadas espaciais. Discuta os méritos e deméritos do método escolhido. Implemente um código que realize esta discretização."
   ]
  },
  {
   "cell_type": "markdown",
   "metadata": {},
   "source": [
    "Para descretizar as derivadas espaciais irei usar o método pseudo-espectral de Chebychev, pelo que a equação de onda fica da seguinte forma:\n",
    "\n",
    "$$\\rho_i  \\frac{ u_i^{n+1} - 2u_i^{n}+u_i^{n-1}}{ dt^2} = \\boldsymbol{D} (\\boldsymbol{\\mu} \\odot \\boldsymbol{D} \\boldsymbol{u}^{n}) + {f_i}^{n}$$\n",
    "\n",
    "onde $\\boldsymbol{D}$ representa a matriz de diferenciação de Chebyshev e o símbolo $\\odot$ representa a multiplicação elemento a elemento.\n",
    "\n",
    "Reescrevendo esta equação em ordem ao único elemento desconhecido ($u_i^{n+1}$) temos:\n",
    "\n",
    "$$ u_i^{n+1} = \\frac{dt^2}{\\rho_i} \\left( \\boldsymbol{D} (\\boldsymbol{\\mu} \\odot \\boldsymbol{D} \\boldsymbol{u}^{n}) + {f_i}^{n} \\right) + 2u_i^{n} - u_i^{n-1}\n",
    "$$\n",
    "\n",
    "Apenas há que ter em atenção que no primeiro passo irá haver uma variável desconhecida que é $u_i^{n-1}$ o que impediria o começo do algoritmo. Para resolver este problema temos de recorrer às condições iniciais (CI):\n",
    "\n",
    "$$\n",
    "u(x,0) = 0 \\\\\n",
    "\\frac{\\partial}{\\partial t}u(x,0) = 0,\n",
    "$$\n",
    "\n",
    "Estas duas condições iniciais garantem que antes de ocorrer a perturbação no meio os deslocamentos são nulos e as velocidades nulas como é de esperar. A segunda CI permite obter o seguinte resultado:\n",
    "\n",
    "$$ u_t=0 \\Rightarrow \\frac{u_i^{n+1}-u_i^{n-1}}{2\\Delta t} = 0 \\Rightarrow u_i^{n+1}=u_i^{n-1}$$\n",
    "\n",
    "Assim o primeiro passo do algoritmo será :\n",
    "\n",
    "$$ u_i^{n+1} = \\frac{dt^2}{2\\rho_i} \\left( \\boldsymbol{D} (\\boldsymbol{\\mu} \\odot \\boldsymbol{D} \\boldsymbol{u}^{n}) + {f_i}^{n} \\right) + u_i^{n}\n",
    "$$\n",
    "\n",
    "De referir também que na resolução desta equação serão usados condições de de fronteira (CF) de Dirichelet pelo que u toma sempre o valor zero nas fronteiras.\n",
    "\n",
    "Uma das desvantagens do uso do método de Chebyshev é o facto de o número de pontos de descretização nas fronteiras ser muito superior em relação à parte intermédia do domínio. Uma vantagem é a sua fácil aplicação."
   ]
  },
  {
   "cell_type": "code",
   "execution_count": 9,
   "metadata": {},
   "outputs": [],
   "source": [
    "def cheb(N):\n",
    "    if N==0:\n",
    "        D = 0.; x = 1.\n",
    "    else:\n",
    "        n = arange(0,N+1)\n",
    "        x = cos(pi*n/N).reshape(N+1,1)\n",
    "        c = (hstack(( [2.], ones(N-1), [2.]))*(-1)**n).reshape(N+1,1)\n",
    "        X = tile(x,(1,N+1))\n",
    "        dX = X - X.T\n",
    "        D = dot(c,1./c.T)/(dX+eye(N+1))\n",
    "        D -= diag(sum(D.T,axis=0))\n",
    "    return D, x.reshape(N+1)"
   ]
  },
  {
   "cell_type": "markdown",
   "metadata": {},
   "source": [
    "d) Escreva o código que lhe permite evoluir o pacote de ondas no tempo com os ingredientes obtidos nas alíneas anteriores. Teste com os parâmetros da tabela acima, que correspondem a um meio homogéneo (logo, sabe a velocidade de propagação, que é constante em todo o domínio!)"
   ]
  },
  {
   "cell_type": "code",
   "execution_count": 13,
   "metadata": {},
   "outputs": [
    {
     "name": "stdout",
     "output_type": "stream",
     "text": [
      "0.0004340788314864212\n",
      "0.95\n",
      "368560\n"
     ]
    }
   ],
   "source": [
    "def rho_constante(x,a):\n",
    "    return np.full(len(x),2500)\n",
    "\n",
    "def miu_constante(x,a):\n",
    "    return np.full(len(x),2.25)\n",
    "\n",
    "def onda_sismica_1D(func_rho,func_miu,T,Nx,f,pt,a):\n",
    "    \"\"\"\n",
    "    func_rho - função que cria os valores da densidade do meio segundo x\n",
    "    func_miu - função que cria os valores da constante elástica segundo x\n",
    "    T - tempo final\n",
    "    Nx+1 - número de nodos na grelha espacial, nodos esses que serão calculados pelo método cheb\n",
    "    f - função que calcula a força exterior aplicada (neste caso será sempre a ricker)\n",
    "    pt - período (parâmetro a introduzir na função ricker)\n",
    "    \n",
    "    \"\"\"\n",
    "    \n",
    "    D,x = cheb(Nx)\n",
    "    \n",
    "    rho = func_rho(x,a)\n",
    "    miu = func_miu(x,a)\n",
    "    \n",
    "    # Determinação de dt de forma a evitar problemas de convergência do método explícito\n",
    "    # C - numero de Courant tem de ser menor ou igual a 1\n",
    "    # C = c*dt/dx onde c é a velocidade do meio\n",
    "    \n",
    "    delta_x = abs(np.diff(x))  # array de valores de delta_x\n",
    "    delta_x_min = min(delta_x)\n",
    "    \n",
    "    c_max = np.sqrt(max(miu)/min(rho))\n",
    "    \n",
    "    dt = (0.95*delta_x_min)/c_max\n",
    "    print(dt)\n",
    "    \n",
    "    print(c_max*dt/delta_x_min)\n",
    "    \n",
    "    # Força exteriormente aplicada durante um período pt\n",
    "    force = f(dt,pt)\n",
    "    \n",
    "    # Após esse período a força aplicada deixa de existir\n",
    "    forca = np.full(int(T/pt)*len(force),0.0)\n",
    "    forca[0:len(force)] = force\n",
    "    Nt = len(forca)\n",
    "    \n",
    "    print(Nt)\n",
    "    \n",
    "    #plt.plot(forca)\n",
    "    #plt.show()\n",
    "    \n",
    "    u    = np.zeros(len(x))  # futuro\n",
    "    u_1  = u.copy()          # presente\n",
    "    u_2  = u.copy()          # passado\n",
    "\n",
    "    # Condição inicial encontra-se já imposta u(x,0) = 0\n",
    "\n",
    "    # Aplicar a fórmula especial no primeiro passo, com du/dt=0 incorporada\n",
    "    index_forca = 10 # local onde atua a força\n",
    "    aux = D@(miu*(D@u_1.T))\n",
    "    u[:] = (dt**2/(2*rho))*(aux)+u_1\n",
    "    u[index_forca] = (dt**2/(2*rho[index_forca]))*(aux[index_forca]+forca[0])+u_1[index_forca]\n",
    "        \n",
    "    # Impôr condições fronteira (Dirichelet)\n",
    "    u[0] = 0  \n",
    "    u[Nx] = 0\n",
    "\n",
    "    # Trocar papel das variáveis antes do próximo passo (presente passa a passado, futuro passa \n",
    "    # a presente)\n",
    "    u_2[:], u_1[:] = u_1, u\n",
    "\n",
    "    for n in range(1, Nt):\n",
    "        \n",
    "        # Actualizar todos os nodos no instante t[n+1]\n",
    "        aux_1 = D@(miu*(D@u_1.T))\n",
    "        u[:] = (dt**2/(rho))*(aux_1) + 2*u_1 - u_2\n",
    "        u[index_forca]=(dt**2/(rho[index_forca]))*(aux_1[index_forca]+forca[n])+2*u_1[index_forca]-u_2[index_forca]\n",
    "                                      \n",
    "        # Aplicar condições fronteira\n",
    "        u[0] = 0  \n",
    "        u[Nx] = 0\n",
    "\n",
    "        # Trocar papel das variáveis antes do próximo passo\n",
    "        u_2[:], u_1[:] = u_1, u\n",
    "        \n",
    "        if n%1000 == 0:\n",
    "            plt.title(\"Onda sísmica em 1D: t={:.3f}\".format(n*dt),fontsize=16,pad=10)\n",
    "            plt.grid()\n",
    "            plt.plot(x, u)\n",
    "            plt.xlabel(\"x\",fontsize=12,labelpad=10)\n",
    "            plt.ylabel(\"u\",fontsize=12,labelpad=10)\n",
    "            plt.ylim(-2e-7,2e-7)\n",
    "            plt.savefig(f'images_1-{n}.png',dpi=100,facecolor=\"white\")\n",
    "            #plt.legend()\n",
    "            plt.close()\n",
    "            #plt.show()\n",
    "\n",
    "onda_sismica_1D(rho_constante,miu_constante,80,600,ricker,1,1)\n",
    "#onda_sismica_1D(func_rho,func_miu,T,Nx,f,pt,a)"
   ]
  },
  {
   "cell_type": "code",
   "execution_count": 19,
   "metadata": {},
   "outputs": [],
   "source": [
    "# Criar gif\n",
    "import imageio\n",
    "Nt = 368560\n",
    "\n",
    "with imageio.get_writer(\"Sismo_homogeneo.gif\",mode=\"i\") as writer:\n",
    "    for n in range(1000,368560,1000):\n",
    "        image = imageio.imread(f'images_1-{n}.png')\n",
    "        writer.append_data(image)"
   ]
  },
  {
   "cell_type": "markdown",
   "metadata": {},
   "source": [
    "e) Simule a situação de um meio não homogéneo. Considere que as funções $\\rho, \\mu$ dependem de $x$, variando numa região estreita, de um valor $p_{\\textrm{min}}=p_0$ a outro $p_{\\textrm{min}}=p_0 + \\Delta p \\equiv p_1.$ Tome, por exemplo,:\n",
    "$\\rho(x) = (\\rho_0 + \\rho_1e^{ax})/(1 + e^{ax}),$\n",
    "onde $a$ é uma constante  positiva, suficientemente grande para fazer que a variação ocorra num intervalo de $5\\%$ do seu domínio.(Considere uma expressão semelhante para $\\mu$.) Tome $\\Delta \\rho/ \\rho= 0.50$ e $\\Delta \\mu/ \\mu= 0.05.$"
   ]
  },
  {
   "cell_type": "markdown",
   "metadata": {},
   "source": [
    "As funções $\\rho(x)$ e $\\mu(x)$ encontram-se ilustradas nos gráficos a seguir. Nestes é possível ver a existência de dois regimes e também conclui-se que quanto maior for o valor de $a$ mais abrupta será a variação dos valores de $\\rho$ e $\\mu$. Sabendo que a variação deve ser o mais abrupta possível escolhi o valor de 100 para $a$.\n",
    "\n",
    "A velocidade de propagação da onda ($c$) é dada pela seguinte equação:\n",
    "\n",
    "$$\n",
    "c = \\sqrt{\\frac{\\mu}{\\rho}}\n",
    "$$\n",
    "\n",
    "Esta equação permite-nos estimar as velocidades de propagação da onda:\n",
    "\n",
    "$$ \n",
    "[0,1] : c  \\approx 7,0 \\times 10^{-4} m/s \\\\\n",
    "[-1,0] : c  \\approx 1,0 \\times 10^{-3} m/s\n",
    "$$\n",
    "\n",
    "É portanto de esperar que à passagem na origem a velocidade de propagação da onda se altere. Os resultados confirmam esta previsão.\n",
    "\n",
    "Numa outra experiência aumentei o valor de $a$ para 600 de forma a tentar observar uma reflexão devido a uma variação muito brusca da velocidade. Essa observação foi visível apesar de reduzida. Não foi possível aumentar aumentar mais o $a$ devido a erros de overflow nas expressões do $\\rho$ e do $\\mu$."
   ]
  },
  {
   "cell_type": "code",
   "execution_count": 20,
   "metadata": {},
   "outputs": [
    {
     "data": {
      "image/png": "[encoded data removed]",
      "text/plain": [
       "<Figure size 432x288 with 1 Axes>"
      ]
     },
     "metadata": {
      "needs_background": "light"
     },
     "output_type": "display_data"
    },
    {
     "data": {
      "image/png": "[encoded data removed]",
      "text/plain": [
       "<Figure size 432x288 with 1 Axes>"
      ]
     },
     "metadata": {
      "needs_background": "light"
     },
     "output_type": "display_data"
    }
   ],
   "source": [
    "def rho_not_constante(x,a):\n",
    "    rho_0 = 2500\n",
    "    rho_1 = rho_0 + 0.5*rho_0\n",
    "    num = (rho_0+rho_1*np.exp(a*x))\n",
    "    den = 1+np.exp(a*x)\n",
    "    \n",
    "    return num/den\n",
    "\n",
    "XX = np.linspace(-1,1,1000)\n",
    "\n",
    "plt.plot(XX,rho_not_constante(XX,100))\n",
    "plt.title(\"Densidade do meio\",fontsize=16,pad=12)\n",
    "plt.xlabel(\"x\",fontsize=12,labelpad=10)\n",
    "plt.grid()\n",
    "plt.show()\n",
    "\n",
    "def miu_not_constante(x,a):\n",
    "    miu_0 = 2.5\n",
    "    miu_1 = miu_0 + 0.05*miu_0\n",
    "    num = (miu_0+miu_1*np.exp(a*x))\n",
    "    den = 1+np.exp(a*x)\n",
    "    \n",
    "    return num/den\n",
    "\n",
    "XX = np.linspace(-1,1,1000)\n",
    "\n",
    "plt.plot(XX,miu_not_constante(XX,100))\n",
    "plt.title(\"Constante elástica\",fontsize=16,pad=12)\n",
    "plt.xlabel(\"x\",fontsize=12,labelpad=10)\n",
    "plt.grid()\n",
    "plt.show()"
   ]
  },
  {
   "cell_type": "code",
   "execution_count": 21,
   "metadata": {},
   "outputs": [
    {
     "name": "stdout",
     "output_type": "stream",
     "text": [
      "0.00040187890707591096\n",
      "0.95\n",
      "398080\n"
     ]
    }
   ],
   "source": [
    "onda_sismica_1D(rho_not_constante,miu_not_constante,80,600,ricker,1,100)"
   ]
  },
  {
   "cell_type": "code",
   "execution_count": 22,
   "metadata": {},
   "outputs": [],
   "source": [
    "# Criar gif\n",
    "import imageio\n",
    "Nt = 368560\n",
    "\n",
    "with imageio.get_writer(\"Sismo_nao_homogeneo.gif\",mode=\"i\") as writer:\n",
    "    for n in range(1000,368560,1000):\n",
    "        image = imageio.imread(f'images_1-{n}.png')\n",
    "        writer.append_data(image)"
   ]
  },
  {
   "cell_type": "code",
   "execution_count": 36,
   "metadata": {},
   "outputs": [
    {
     "name": "stdout",
     "output_type": "stream",
     "text": [
      "0.00040187890707591096\n",
      "0.95\n",
      "398080\n"
     ]
    }
   ],
   "source": [
    "onda_sismica_1D(rho_not_constante,miu_not_constante,80,600,ricker,1,600)"
   ]
  },
  {
   "cell_type": "code",
   "execution_count": 29,
   "metadata": {},
   "outputs": [],
   "source": [
    "# Criar gif\n",
    "import imageio\n",
    "Nt = 368560\n",
    "\n",
    "with imageio.get_writer(\"Sismo_nao_homogeneo_a_600.gif\",mode=\"i\") as writer:\n",
    "    for n in range(1000,368560,1000):\n",
    "        image = imageio.imread(f'images_1-{n}.png')\n",
    "        writer.append_data(image)"
   ]
  }
 ],
 "metadata": {
  "kernelspec": {
   "display_name": "Python 3",
   "language": "python",
   "name": "python3"
  },
  "language_info": {
   "codemirror_mode": {
    "name": "ipython",
    "version": 3
   },
   "file_extension": ".py",
   "mimetype": "text/x-python",
   "name": "python",
   "nbconvert_exporter": "python",
   "pygments_lexer": "ipython3",
   "version": "3.8.5"
  }
 },
 "nbformat": 4,
 "nbformat_minor": 4
}
