{
 "cells": [
  {
   "cell_type": "markdown",
   "metadata": {},
   "source": [
    "# Métodos Computacionais em Engenharia (FIS3022)\n",
    "## Exame da época normal  (21 de Junho de 2022)"
   ]
  },
  {
   "cell_type": "markdown",
   "metadata": {},
   "source": [
    "Devem responder às questões no próprio notebook, que devem gravar com um nome que inclua o vosso nome (primeiro e último) e número mecanográfico.  O notebook resultante deve, no mínimo, correr sem alterações, produzindo todos os resultados pedidos. Não usem módulos não-standard (se eu não tiver, não corre, nota é zero). Podem/devem também fazer comentários no notebook. Os códigos devem ser profusamente comentados.\n",
    "\n",
    "Podem consultar os notebooks das aulas, bem como procurar ajuda sobre comandos python. Buscas sobre o tema do problema **NÃO** são permitidas, e se o fizerem a prova será anulada. O mesmo acontece se o código tiver evidentes parecenças com códigos publicados na Web.\n"
   ]
  },
  {
   "cell_type": "raw",
   "metadata": {},
   "source": []
  },
  {
   "cell_type": "code",
   "execution_count": 11,
   "metadata": {},
   "outputs": [],
   "source": [
    "import numpy as np\n",
    "import matplotlib.pyplot as plt\n",
    "import scipy.sparse.linalg\n",
    "import scipy.linalg\n",
    "from scipy import linalg"
   ]
  },
  {
   "cell_type": "markdown",
   "metadata": {},
   "source": [
    "### Descrição do problema\n",
    "Um médico administra uma injecção intramuscular a um paciente com uma reacção alérgica severa. A injecção demora um total de $T=5\\textrm{ s}$ a ser administrada.  Considere que quando termina a aplicação o produto químico se espalhou por uma distância de $2.5\\textrm{ cm}$ (consideramos o problema a 1d), com uma concentração inicial $C_0$ (que supomos constante).\n",
    " Seja a difusividade do medicamento $D=0.0075\\textrm{ m}^2/\\textrm{s}^{-1}$. Pretendemos determinar a concentração do medicamento no músculo, $75\\textrm{ s}$ mais tarde."
   ]
  },
  {
   "cell_type": "markdown",
   "metadata": {},
   "source": [
    "a) Vamos supôr a veia um domínio unidimensional. Escreva a equação que descreve a evolução da concentração, $C(x,t)$, no tempo e no espaço. Adimencionalize (ou escolha unidades apropriadas) de modo a que não tenha que usar números grandes ou pequenos nos seus cálculos."
   ]
  },
  {
   "cell_type": "markdown",
   "metadata": {},
   "source": [
    "A evolução da concentração do medicamento $C(x,t)$ no tempo e no espaço será descrita por uma equação do tipo:\n",
    "\n",
    "$$\\frac{\\partial C(x,t)}{\\partial t}=D \\frac{\\partial^2 C(x,t)}{\\partial x^2} $$\n",
    "\n",
    "Para adimensionalizar está equação vamos reescreve-la em termos de $L, T_0, C_0$, onde são respectivamente o comprimento do músculo, tempo ínicial e concentração inicial. \n",
    "\n",
    "Assim, fazemos as substituições:\n",
    "\n",
    "$$\\hat{x}=\\frac{x}{\\bar{L}};\\ \\ \\ \n",
    "\\hat{t}=\\frac{t}{T_0};\\ \\ \\ \n",
    "\\hat{C(x,t)}=\\frac{C(x,t)}{C_0}\n",
    "$$\n",
    "\n",
    "de modo a $0<x<1$ e $t>0$\n",
    "\n",
    "Onde substituindo na equação original:\n",
    "\n",
    "$$ \\begin{align*}\n",
    "  C_t & = \\frac{\\partial C}{\\partial t} = C_0\\frac{\\partial \\hat{C}}{\\partial \\hat{t}}\\frac{\\partial \\hat{t}}{\\partial t} = \\frac{C_0}{\\bar{T_0}}\\frac{\\partial \\hat{C}}{\\partial \\hat{t}}\\\\\n",
    "  C_x & = \\frac{\\partial C}{\\partial x} = \\bar{L}\\frac{\\partial \\hat{C}}{\\partial \\hat{x}}\\frac{\\partial \\hat{x}}{\\partial x} = \\frac{C_0}{\\bar{L}}\\frac{\\partial \\hat{C}}{\\partial \\hat{x}}\\\\\n",
    "  C_{xx} & = \\frac{C_0}{\\bar{L}^2}\\frac{\\partial^2 \\hat{C}}{\\partial \\hat{x}^2},\n",
    "  \\end{align*}\n",
    "  $$\n",
    "  que substituídos na equação de calor conduz a:\n",
    "  \n",
    "  $$ \\frac{\\partial \\hat{C}}{\\partial \\hat{t}} =  \\frac{\\bar{T} D}{\\bar{L}^2} \\frac{\\partial^2 \\hat{C}}{\\partial \\hat{x}^2}.\n",
    "  $$\n",
    "  \n",
    "Por último, vamos normalizar $ \\frac{\\bar{T} D}{\\bar{L}^2}=\\alpha=1$, ou seja, escolhemos $ \\frac{\\bar{T}}{\\bar{L}^2}=\\frac{1}{D}$\n",
    "\n",
    "Assim escreve-se apenas:\n",
    "  $$ \\frac{\\partial \\hat{C}}{\\partial \\hat{t}} = \\frac{\\partial^2 \\hat{C}}{\\partial \\hat{x}^2}.\n",
    "  $$"
   ]
  },
  {
   "cell_type": "markdown",
   "metadata": {},
   "source": [
    "b) Discretize a sua equação, usando um dos 3 métodos seguintes, à sua escolha.\n",
    " - explícito;\n",
    " - Crank-Nicolson;\n",
    " - pseudo-espectral.\n",
    "Justifique a escolha, indicando quais as vantagens, desvantagens, e problemas potenciais que deve ter em conta na sua implementação e, sobretudo, no uso que vai fazer do método (pode incluir aqui argumentos baseados na resolução da alínea d))."
   ]
  },
  {
   "cell_type": "markdown",
   "metadata": {},
   "source": [
    "Vamos discretizar utilizando o método de Crank-Nicolson, onde é combinada as diferenças centrais no espaço com uma média dos esquemas precedentes no tempo, o que resulta em (estamos já a trabalhar com a equação adimensionalizada e normalizada, estamos a simplificar a notação para economizar tempo):\n",
    "\n",
    "\n",
    "$$\\frac{C^{n+1}_i - C^n_i}{\\Delta t} =\\frac{1}{\\Delta x^2}\\left(C^{n+\\frac{1}{2}}_{i-1} - 2C^{n+\\frac{1}{2}}_i + C^{n+\\frac{1}{2}}_{i+1}\\right).$$\n",
    "\n",
    "Então calcula-se $C^{n+\\frac{1}{2}}_i$ como a média dos seus vizinhos no tempo:\n",
    "\n",
    "$$ C^{n+\\frac{1}{2}}_i\\approx\n",
    "\\frac{1}{2}\\left(C^{n}_i +C^{n+1}_{i}\\right).$$\n",
    "\n",
    "Logo:\n",
    "\n",
    "Fazendo o mesmo para todos os pontos espaciais que aparecem no lado direito, calculando a derivada no tempo do lado esquerdo, multiplicando por $\\Delta t$, e reunindo termos, vem finalmente:\n",
    "\n",
    "$$\n",
    "C^{n+1}_i - \\frac{1}{2} F(C^{n+1}_{i-1} - 2C^{n+1}_i + C^{n+1}_{i+1})\n",
    "= C^{n}_i + \\frac{1}{2} F(C^{n}_{i-1} - 2C^{n}_i + C^{n}_{i+1}).$$\n",
    "\n",
    "Onde $F =\\alpha\\frac{\\Delta t}{\\Delta x^2}$ é o número de Fourier da malha (no nosso caso $\\alpha=1$) \n",
    "\n",
    "Temos então equações com incógnitas acopladas, que podem ser escrita na forma matricial  nesse caso, as entradas da matriz $A$ são agora dadas por:\n",
    "\n",
    "$$\\begin{align}\n",
    "A_{i,i-1} &= -\\frac{1}{2} F\n",
    "\\\\ \n",
    "A_{i,i} &= 1 + F\n",
    "\\\\ \n",
    "A_{i,i+1} &= -\\frac{1}{2} F\\end{align}$$\n",
    "\n",
    "O vector do lado direito $b$ pode ser obtido a partir da multiplicação de $U$ por uma matriz tridiagonal, com entradas:\n",
    "\n",
    "$$\\begin{align}\n",
    "B_{i,i-1} &= \\frac{1}{2} F\n",
    "\\\\ \n",
    "B_{i,i} &= 1 - F\n",
    "\\\\ \n",
    "B_{i,i+1} &= \\frac{1}{2} F.\\end{align}$$\n",
    "\n",
    "\n",
    "Este método foi escolhido devido a ser um problema simples em apenas uma dimensão, a qual foi levado em conta o trade-off entre suas vantagens e descantagens, e também sua fácil implementação.\n",
    "\n",
    "**Vantagens:** \n",
    "Em relação ao foward euler por exemplo, temos a vantagem de utilizarmos matrizes esparsas, a quais tornam nossos calculos muito mais rápidos e baratos para a máquina. Entretanto outro método sería o ímplicito backward euler, mas neste caso o CN tem a vantagem de calcular os pontos temporais intermédios, melhorando a precisão e a estabilidade do método. \n",
    "\n",
    "**Desvantagens:**\n",
    "Uma desvantagem desse método aparece por exemplo no caso a duas dimensões, onde já não é possível construir matrizes tridiagonais, sendo assim em casos como esse é mais recomendado algoritmos como o ADI ou métodos espectrais.\n",
    "\n"
   ]
  },
  {
   "cell_type": "markdown",
   "metadata": {},
   "source": [
    "c) Escreva as condições iniciais e condições fronteira necessárias para descrever completamente o seu problema. As condições fronteira devem ser apropriadas ao problema que queremos resolver. (Se escolher condições fronteira fisicamente inapropriadas, e que lhe facilitem a implementação do método nas alíneas seguintes, será penalizado nesta alínea e de novo nas seguintes!)"
   ]
  },
  {
   "cell_type": "markdown",
   "metadata": {},
   "source": [
    "Para o nosso problema as condições iniciaias consistem em manter uma concentração inicial uniforme $C_0$ em $0 \\leq x \\leq 2,5cm$\n",
    "\n",
    "Já as condições de fronteira usadas serão as condições de Dirichlet, de modo a confinar a concentração do medicamento dentro da veia/musculo, ou seja, na 'barreira' (tecido) para o exterior não deve haver medicamento."
   ]
  },
  {
   "cell_type": "code",
   "execution_count": 98,
   "metadata": {},
   "outputs": [],
   "source": [
    "def initial_cond(*args):\n",
    "    '''\n",
    "    Input: x normalizado (0-1)\n",
    "           L comprimento da veia/musculo\n",
    "           C0 concentração inicial desejada\n",
    "           \n",
    "    Output: Vector com concentração inicial até 2.5 e zero restante\n",
    "    \n",
    "    '''\n",
    "    x = args[0]\n",
    "    L = args[1]\n",
    "    #C0 = args[2]\n",
    "    xx = x*L\n",
    "    u = np.zeros(len(xx))\n",
    "    u[np.where(xx<=2.5)] = 1\n",
    "    return u\n",
    "\n",
    "def fronteira(*args):\n",
    "    return 0,0"
   ]
  },
  {
   "cell_type": "markdown",
   "metadata": {},
   "source": [
    "d) Faça uma análise da estabilidade de von Neumann do esquema que escolheu, expressa à custa do parâmetro $s\\equiv D\\Delta t/(\\Delta x)^2$ (nesta definição a grandeza é a que aparece na sua equação escalada). Não precisa levar os seus cálculos \"até ao fim\", mas deve apresentar uma condição apropriada, só com os termos essenciais."
   ]
  },
  {
   "cell_type": "markdown",
   "metadata": {},
   "source": [
    "No nosso caso, como referido na alínea a) foi definido  $ \\frac{\\bar{T} D}{\\bar{L}^2}=\\alpha=1$, ou seja, escolhemos $ \\frac{\\bar{T}}{\\bar{L}^2}=\\frac{1}{D}$, deste modo $s\\equiv F = \\alpha \\Delta t/(\\Delta x)^2$, que é o número de Fourier da malha.\n",
    "\n",
    "No nosso método calculamos $dt=\\frac{dx^2}{2 \\alpha}$, garantindo que $F \\leq 0.5$, assim teremos um método sempre estável.\n"
   ]
  },
  {
   "cell_type": "markdown",
   "metadata": {},
   "source": [
    "e) Escreva um programa com o método escolhido em b) que lhe permita determinar a concentração em função da posição e do tempo. Apresente um gráfico que permita ver a distribuição da concentração de medicamento **em unidades reais** no instante $75\\textrm{ s}$ após terminar a injecção. Indique a concentação nesse instante num ponto $10\\textrm{ cm}$ daquele em que teve lugar a injeção."
   ]
  },
  {
   "cell_type": "code",
   "execution_count": 99,
   "metadata": {},
   "outputs": [],
   "source": [
    "def CN(a, Nx, xi, xf, Tf, cond_inicial, cond_fronteira,L,C0):\n",
    "    '''\n",
    "    a: parâmetro de difusão, dtype=float\n",
    "    xi: x inicial, dtype=float\n",
    "    xf: x final, dtype=float\n",
    "    Nx: número de pontos em x, dtype=int\n",
    "    \n",
    "    ---> domínio = [xi,xf] com Nx pontos\n",
    "    \n",
    "    Tf: Tempo final, dtype=int\n",
    "    \n",
    "    cond_inicial: \n",
    "         \\\\função para condição de fronteira, os argumentos devem estar no formato *args e os inputs serao\n",
    "         input: x[i],xf,a,F\n",
    "         output: float\n",
    "    \n",
    "    cond_fronteira:\n",
    "        \\\\função para condição de fronteira, os argumentos devem estar no formato *args e os inputs serao\n",
    "         input: xi,xf,ti \n",
    "         output: tuple, dtype=float\n",
    "         \n",
    "         \n",
    "    L comprimento da veia/musculo\n",
    "    C0 concentração inicial desejada\n",
    "    '''\n",
    "    # Calculo parametros\n",
    "    x    = np.linspace(xi, xf, Nx+1)    # nodos da grelha no espaço\n",
    "    dx   = x[1] - x[0]\n",
    "    dt   = dx**2/(2*a)                # calculando dt\n",
    "    F    = a*dt/dx**2 # número de Fourier da malha\n",
    "    \n",
    "    u   = np.zeros(Nx+1)          # incógnita u no novo nível de tempo\n",
    "    \n",
    "    # Representação de uma matriz esparsa e do vector do lado direito\n",
    "    principal  = np.zeros(Nx+1)\n",
    "    inferior   = np.zeros(Nx)\n",
    "    superior   = np.zeros(Nx)\n",
    "    b          = np.zeros(Nx+1)\n",
    "    B_p        = np.zeros(Nx+1)\n",
    "    B_i        = np.zeros(Nx)\n",
    "    B_s        = np.zeros(Nx)\n",
    "\n",
    "    # Precálculo da matriz esparsa A\n",
    "    principal[:] = 1 + F\n",
    "    inferior[:] = -F/2  \n",
    "    superior[:] = -F/2 \n",
    "    \n",
    "    # Inserir condições fronteira na matriz\n",
    "    principal[0] = 1\n",
    "    principal[Nx] = 1\n",
    "\n",
    "    A = scipy.sparse.diags(\n",
    "        diagonals=[principal, inferior, superior],\n",
    "        offsets=[0, -1, 1], shape=(Nx+1, Nx+1),\n",
    "        format='csr')\n",
    "    \n",
    "    # Precálculo da matriz esparsa B\n",
    "    B_p[:] = 1 - F\n",
    "    B_i[:] = F/2  \n",
    "    B_s[:] = F/2 \n",
    "    \n",
    "    # Inserir condições fronteira na matriz\n",
    "    B_p[0] = 1\n",
    "    B_p[Nx] = 1\n",
    "\n",
    "    B = scipy.sparse.diags(\n",
    "        diagonals=[B_p, B_i, B_s],\n",
    "        offsets=[0, -1, 1], shape=(Nx+1, Nx+1),\n",
    "        format='csr')\n",
    "    \n",
    "    # Inserir condição inicial\n",
    "    u_1 = cond_inicial(x,L,C0)\n",
    "    init = u_1.copy()\n",
    "    \n",
    "    \n",
    "    #evaluate right hand side at t=0\n",
    "    bb = B.toarray().dot(u_1) \n",
    "    \n",
    "    T = L**2/0.0075\n",
    "    TF = Tf/T\n",
    "    \n",
    "    t = 0\n",
    "    while t < TF+dt: \n",
    "        \n",
    "        bb[0], bb[-1] = cond_fronteira(xi,xf,t)  # condições fronteira\n",
    "        \n",
    "        #find solution inside domain\n",
    "        u[:] = scipy.sparse.linalg.spsolve(A,bb)\n",
    "        \n",
    "        #update right hand side\n",
    "        bb = B.toarray().dot(u) \n",
    "        \n",
    "        #u_1 = u\n",
    "        t += dt\n",
    "    \n",
    "    \n",
    "    return x*L,u*C0,init*C0 # Convertendo para unidades reais (x em cm, concentração em kg/L)"
   ]
  },
  {
   "cell_type": "code",
   "execution_count": 101,
   "metadata": {},
   "outputs": [
    {
     "data": {
      "image/png": "[encoded data removed]",
      "text/plain": [
       "<Figure size 576x432 with 1 Axes>"
      ]
     },
     "metadata": {
      "needs_background": "light"
     },
     "output_type": "display_data"
    }
   ],
   "source": [
    "Tt = 75\n",
    "\n",
    "x,u,init = CN(a=1, Nx=128, xi=0, xf=1,Tf=Tt, cond_inicial=initial_cond, cond_fronteira=fronteira,L=20,C0=0.5)\n",
    "\n",
    "plt.figure(figsize=(8,6))\n",
    "plt.plot(x,init,color='r',label='t=0s (estado ínicial)')\n",
    "plt.plot(x,u,label=f't={Tt}s')\n",
    "\n",
    "plt.xlabel('X(cm)',fontsize=14)\n",
    "plt.ylabel('C(kg/L)',fontsize=14)\n",
    "\n",
    "plt.legend()\n",
    "plt.grid()\n",
    "plt.show()"
   ]
  },
  {
   "cell_type": "markdown",
   "metadata": {},
   "source": [
    "f) Possívelmente usou nas alíneas anteriores o _stencil_ de 5 pontos para descretizar o laplaciano, como fizémos nas aulas. Se pretendermos uma aproximação melhor, podemos usar a descretização do laplaciano com uma fórmula de 9 pontos em vez de 5. Uma possibilidade é: \n",
    "$$\\nabla^2u\\approx \\frac{-20u_{i,j} + 4u_{i+1,j} + 4u_{i-1,j} + 4u_{i,j+1} + 4u_{i,j-1} + u_{i+1,j+1} + u_{i−1,j-1} + u_{i+1,j-1} + u_{i-1,j+1}}{6h^2},$$\n",
    "\n",
    "que dá uma precisão $\\mathcal{O}(h^4)$. No caso de usar um método de diferenças finitas, como se altera a matriz dos coeficientes? Escreva o comando para produzir os elementos apropriados usando o comando _spdiags_."
   ]
  },
  {
   "cell_type": "markdown",
   "metadata": {},
   "source": [
    "$$ \\frac{U^{n+1}_{j,i} - U^n_{j,i}}{\\Delta t}=  \\big(\\frac{-20u_{i,j} + 4u_{i+1,j} + 4u_{i-1,j} + 4u_{i,j+1} + 4u_{i,j-1} + u_{i+1,j+1} + u_{i−1,j-1} + u_{i+1,j-1} + u_{i-1,j+1}}{6\\Delta x^2} \\big)^{n+1} +  \\big(\\frac{-20u_{i,j} + 4u_{i+1,j} + 4u_{i-1,j} + 4u_{i,j+1} + 4u_{i,j-1} + u_{i+1,j+1} + u_{i−1,j-1} + u_{i+1,j-1} + u_{i-1,j+1}}{6 \\Delta y^2} \\big)^{n}$$\n",
    "\n",
    "Sendo $\\alpha_x=\\frac{\\Delta t}{6\\Delta x^2}$ e $\\alpha_y=\\frac{\\Delta t}{6\\Delta y^2}$\n",
    "\n"
   ]
  },
  {
   "cell_type": "code",
   "execution_count": null,
   "metadata": {},
   "outputs": [],
   "source": []
  }
 ],
 "metadata": {
  "kernelspec": {
   "display_name": "Python 3 (ipykernel)",
   "language": "python",
   "name": "python3"
  },
  "language_info": {
   "codemirror_mode": {
    "name": "ipython",
    "version": 3
   },
   "file_extension": ".py",
   "mimetype": "text/x-python",
   "name": "python",
   "nbconvert_exporter": "python",
   "pygments_lexer": "ipython3",
   "version": "3.9.7"
  }
 },
 "nbformat": 4,
 "nbformat_minor": 4
}
