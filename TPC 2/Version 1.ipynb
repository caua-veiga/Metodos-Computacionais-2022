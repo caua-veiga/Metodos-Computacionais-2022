{
 "cells": [
  {
   "cell_type": "code",
   "execution_count": 1,
   "id": "f18da19b",
   "metadata": {},
   "outputs": [],
   "source": [
    "import numpy as np\n",
    "import matplotlib.pyplot as plt"
   ]
  },
  {
   "cell_type": "markdown",
   "id": "b9b13fa6",
   "metadata": {},
   "source": [
    "# 1.a - Rotina para gerar pacote de ondas gaussianas"
   ]
  },
  {
   "cell_type": "code",
   "execution_count": null,
   "id": "ae51e8b8",
   "metadata": {},
   "outputs": [],
   "source": []
  }
 ],
 "metadata": {
  "kernelspec": {
   "display_name": "labs",
   "language": "python",
   "name": "labs"
  },
  "language_info": {
   "codemirror_mode": {
    "name": "ipython",
    "version": 3
   },
   "file_extension": ".py",
   "mimetype": "text/x-python",
   "name": "python",
   "nbconvert_exporter": "python",
   "pygments_lexer": "ipython3",
   "version": "3.9.7"
  }
 },
 "nbformat": 4,
 "nbformat_minor": 5
}
