{
 "cells": [
  {
   "cell_type": "code",
   "execution_count": 2,
   "id": "205a6c0a",
   "metadata": {},
   "outputs": [],
   "source": [
    "import numpy as np\n",
    "import matplotlib.pyplot as plt"
   ]
  },
  {
   "cell_type": "code",
   "execution_count": 19,
   "id": "afb131ca",
   "metadata": {},
   "outputs": [
    {
     "data": {
      "image/png": "[encoded data removed]",
      "text/plain": [
       "<Figure size 1008x576 with 1 Axes>"
      ]
     },
     "metadata": {
      "needs_background": "light"
     },
     "output_type": "display_data"
    }
   ],
   "source": [
    "def barriers(N,n,a=1):\n",
    "    '''\n",
    "    N: Número de pontos do lado do grid (grid quadrado)\n",
    "    n: Número de fendas\n",
    "    a: Altura fenda\n",
    "    '''\n",
    "    \n",
    "    grid = np.zeros((N,N))\n",
    "    center_g = N//2\n",
    "    x    = np.linspace(-10, 10, N)    # nodos da grelha no espaço\n",
    "    dx   = x[1] - x[0] \n",
    "\n",
    "    cons = (2*int(N/300))\n",
    "    grid[:,center_g:center_g+(a+1)] = 1\n",
    "    #grid[:,:] = 1\n",
    "    if n == 1:\n",
    "        grid[center_g-2:center_g+3,center_g:center_g+(a+1)] = 0\n",
    "    if n%2==0:\n",
    "        grid[center_g-2-5*(n-2):center_g+3+5*(n-2):5 , : ] = 0\n",
    "            \n",
    "    \n",
    "                \n",
    "    return grid  \n",
    "        \n",
    "    \n",
    "grid = barriers(500,4,1)\n",
    "plt.figure(figsize=(14,8))\n",
    "plt.imshow(grid)\n",
    "plt.show()"
   ]
  },
  {
   "cell_type": "code",
   "execution_count": 33,
   "id": "df73d1a5",
   "metadata": {},
   "outputs": [
    {
     "data": {
      "image/png": "[encoded data removed]",
      "text/plain": [
       "<Figure size 1008x576 with 1 Axes>"
      ]
     },
     "metadata": {
      "needs_background": "light"
     },
     "output_type": "display_data"
    }
   ],
   "source": [
    "def barriers(N,n,a=1):\n",
    "    '''\n",
    "    N: Número de pontos do lado do grid (grid quadrado)\n",
    "    n: Número de barreiras\n",
    "    a: Altura barreiras\n",
    "    '''\n",
    "\n",
    "    #N = 41 # number of points xx\n",
    "    grid = np.zeros((N,N))\n",
    "    center_g = N//2\n",
    "    x    = np.linspace(-10, 10, N)    # nodos da grelha no espaço\n",
    "    dx   = x[1] - x[0] \n",
    "    \n",
    "    \n",
    "    \n",
    "    cons = (2*int(N/300))\n",
    "    grid[:,center_g:center_g+(a*cons+1)] = 1\n",
    "    if n==1:\n",
    "        grid[center_g-2*cons:center_g+3*cons ,center_g:center_g+a*cons+1] = 0\n",
    "        \n",
    "        return grid\n",
    "        \n",
    "    if n%2==0:\n",
    "        nm = n//2\n",
    "        grid[center_g-(2+(nm+(nm-1))*5)*cons:center_g-3*cons:5, center_g:center_g+a*cons+1] = 0\n",
    "        #grid[center_g-(2-(nm+(nm-1))*5)*cons:center_g-3*cons, center_g:center_g+a*cons+1] = 0\n",
    "        \n",
    "        return grid\n",
    "        \n",
    "        \n",
    "        \n",
    "    for i in range(n):\n",
    "        if i==0:\n",
    "            grid[center_g-7*cons*(i+1):center_g-1*cons*(i+1),center_g:center_g+(a*cons+1)] = 0\n",
    "            grid[center_g+2*cons*(i+1):center_g+8*cons*(i+1),center_g:center_g+(a*cons+1)] = 0\n",
    "            \n",
    "            left_bar = center_g-7*cons*(i+1)\n",
    "            right_bar = center_g+8*cons*(i+1)\n",
    "        else:\n",
    "            if center_g-(7-10*i)*cons >=11: # So that we stay inside the grid\n",
    "                grid[center_g-(7-10*i)*cons:center_g-(1-11*i)*cons,center_g:center_g+(a*cons+1)] = 0\n",
    "                grid[center_g+(2+10*i)*cons:center_g+(8+10*i)*cons,center_g:center_g+(a*cons+1)] = 0\n",
    "                left_bar = center_g-(7-10*i)*cons\n",
    "                right_bar = center_g+(8+10*i)*cons\n",
    "            else:\n",
    "                print('The number of barriers exceeds the grid size')\n",
    "                break\n",
    "\n",
    "                \n",
    "    grid[0:left_bar-4*cons,center_g:center_g+(a*cons+1)] = 1\n",
    "    grid[right_bar+5*cons:,center_g:center_g+(a*cons+1)] = 1\n",
    "                \n",
    "    return grid  \n",
    "        \n",
    "    \n",
    "grid = barriers(500,4,1)\n",
    "plt.figure(figsize=(14,8))\n",
    "plt.imshow(grid)\n",
    "plt.show()"
   ]
  },
  {
   "cell_type": "code",
   "execution_count": 63,
   "id": "967eb597",
   "metadata": {},
   "outputs": [
    {
     "data": {
      "image/png": "[encoded data removed]",
      "text/plain": [
       "<Figure size 1152x576 with 2 Axes>"
      ]
     },
     "metadata": {
      "needs_background": "light"
     },
     "output_type": "display_data"
    }
   ],
   "source": [
    "def n_fendas(N,l,espessura,largura,separacao,n):\n",
    "    grid = np.zeros([N,N])\n",
    "    m = int(N/l)\n",
    "    cc = l//2 #center\n",
    "    \n",
    "    if l<((n-1)*separacao + n*largura)/m:\n",
    "        print(\"Não é possivel ter {} fendas.\".format(n))\n",
    "    else:\n",
    "        grid[:,int(N/2 - espessura/2):int(N/2 + espessura/2)] = 1\n",
    "        if n%2!=0:\n",
    "            grid[int(m*cc - largura/2):int(m*cc + largura/2),int(N/2 - espessura/2):int(N/2 + espessura/2)] = 0\n",
    "            for i in range(int((n-1)/2)):\n",
    "                i = i+1\n",
    "                if i == 1:\n",
    "                    grid[int(m*cc + largura/2 + separacao):int(m*cc + largura/2 + separacao + largura),int(N/2 - espessura/2):int(N/2 + espessura/2)] = 0\n",
    "                    grid[int(m*cc - largura/2 - separacao - largura):int(m*cc - largura/2 - separacao),int(N/2 - espessura/2):int(N/2 + espessura/2)] = 0\n",
    "                else:\n",
    "                    grid[int(m*cc + i*(separacao + largura) - largura/2):int(m*cc + i*(separacao + largura) + largura/2),int(N/2 - espessura/2):int(N/2 + espessura/2)] = 0\n",
    "                    grid[int(m*cc - i*(separacao + largura) - largura/2):int(m*cc - i*(separacao + largura) + largura/2),int(N/2 - espessura/2):int(N/2 + espessura/2)] = 0\n",
    "    \n",
    "        else:\n",
    "            for i in range(int(n/2)):\n",
    "                i = i+1\n",
    "                if i == 1:\n",
    "                    grid[int(m*cc+separacao/2):int(m*cc+separacao/2+largura),int(N/2 - espessura/2):int(N/2 + espessura/2)] = 0\n",
    "                    grid[int(m*cc-separacao/2-largura):int(m*cc-separacao/2),int(N/2 - espessura/2):int(N/2 + espessura/2)] = 0\n",
    "                else:\n",
    "                    grid[int(m*cc + i*(separacao + largura) - separacao/2 - largura):int(m*cc + i*(separacao + largura) -separacao/2),int(N/2 - espessura/2):int(N/2 + espessura/2)] = 0\n",
    "                    grid[int(m*cc - i*(separacao + largura) + separacao/2):int(m*cc - i*(separacao + largura) + separacao/2 + largura),int(N/2 - espessura/2):int(N/2 + espessura/2)] = 0\n",
    "        \n",
    "        \n",
    "    return grid\n",
    "\n",
    "matriz_potencial = potencial_fendas(500,20,2,5,10,2)\n",
    "plt.figure(figsize=(16,8))\n",
    "plt.imshow(matriz_potencial)\n",
    "plt.colorbar()\n",
    "plt.show()"
   ]
  },
  {
   "cell_type": "code",
   "execution_count": null,
   "id": "0df7df61",
   "metadata": {},
   "outputs": [],
   "source": [
    "def barriers(N,n,a=1):\n",
    "    '''\n",
    "    N: Número de pontos do lado do grid (grid quadrado)\n",
    "    n: Número de barreiras\n",
    "    a: Altura barreiras\n",
    "    '''\n",
    "\n",
    "    #N = 41 # number of points xx\n",
    "    grid = np.zeros((N,N))\n",
    "    center_g = N//2\n",
    "    x    = np.linspace(-10, 10, N)    # nodos da grelha no espaço\n",
    "    dx   = x[1] - x[0] \n",
    "\n",
    "    cons = (2*int(N/300))\n",
    "    if n==1:\n",
    "        grid[center_g-2*cons:center_g+3*cons ,center_g:center_g+a*cons+1] = 1\n",
    "        \n",
    "        grid[0:center_g-6*cons,center_g:center_g+(a*cons+1)] = 1\n",
    "        grid[center_g+8*cons:,center_g:center_g+(a*cons+1)] = 1\n",
    "        \n",
    "        return grid\n",
    "        \n",
    "    \n",
    "    \n",
    "    n_ = n//2 # number of barriers for each side\n",
    "    for i in range(n_):\n",
    "        if i==0:\n",
    "            grid[center_g-7*cons*(i+1):center_g-1*cons*(i+1),center_g:center_g+(a*cons+1)] = 1\n",
    "            grid[center_g+2*cons*(i+1):center_g+8*cons*(i+1),center_g:center_g+(a*cons+1)] = 1\n",
    "            \n",
    "            left_bar = center_g-7*cons*(i+1)\n",
    "            right_bar = center_g+8*cons*(i+1)\n",
    "        else:\n",
    "            if center_g-(7-10*i)*cons >=11: # So that we stay inside the grid\n",
    "                grid[center_g-(7-10*i)*cons:center_g-(1-11*i)*cons,center_g:center_g+(a*cons+1)] = 1\n",
    "                grid[center_g+(2+10*i)*cons:center_g+(8+10*i)*cons,center_g:center_g+(a*cons+1)] = 1\n",
    "                left_bar = center_g-(7-10*i)*cons\n",
    "                right_bar = center_g+(8+10*i)*cons\n",
    "            else:\n",
    "                print('The number of barriers exceeds the grid size')\n",
    "                break\n",
    "\n",
    "                \n",
    "    grid[0:left_bar-4*cons,center_g:center_g+(a*cons+1)] = 1\n",
    "    grid[right_bar+5*cons:,center_g:center_g+(a*cons+1)] = 1\n",
    "                \n",
    "    return grid "
   ]
  },
  {
   "cell_type": "code",
   "execution_count": 74,
   "id": "d5401a78",
   "metadata": {},
   "outputs": [
    {
     "data": {
      "image/png": "[encoded data removed]",
      "text/plain": [
       "<Figure size 1008x576 with 2 Axes>"
      ]
     },
     "metadata": {
      "needs_background": "light"
     },
     "output_type": "display_data"
    }
   ],
   "source": [
    "def barriers(N,n,a=1):\n",
    "    '''\n",
    "    N: Número de pontos do lado do grid (grid quadrado)\n",
    "    n: Número de barreiras\n",
    "    a: Altura barreiras\n",
    "    '''\n",
    "\n",
    "    #N = 41 # number of points xx\n",
    "    grid = np.zeros((N,N))\n",
    "    center_g = N//2\n",
    "    x    = np.linspace(-10, 10, N)    # nodos da grelha no espaço\n",
    "    dx   = x[1] - x[0] \n",
    "\n",
    "    cons = (2*int(N/300))\n",
    "    grid[: ,center_g:center_g+a*cons+1] = 1\n",
    "    if n==1:\n",
    "        grid[center_g-2*cons:center_g+3*cons ,center_g:center_g+a*cons+1] = 0\n",
    "        \n",
    "        #grid[0:center_g-6*cons,center_g:center_g+(a*cons+1)] = 1\n",
    "        #grid[center_g+8*cons:,center_g:center_g+(a*cons+1)] = 1\n",
    "        \n",
    "        return grid\n",
    "        \n",
    "    \n",
    "    \n",
    "    n_ = n//2 # number of barriers for each side\n",
    "    for i in range(n_):\n",
    "        if i==0:\n",
    "            grid[center_g-7*cons*(i+1):center_g-1*cons*(i+1),center_g:center_g+(a*cons+1)] = 0\n",
    "            grid[center_g+2*cons*(i+1):center_g+8*cons*(i+1),center_g:center_g+(a*cons+1)] = 0\n",
    "            \n",
    "            left_bar = center_g-7*cons*(i+1)\n",
    "            right_bar = center_g+8*cons*(i+1)\n",
    "        else:\n",
    "            if center_g-(7-10*i)*cons >=11: # So that we stay inside the grid\n",
    "                grid[center_g-(7-10*i)*cons:center_g-(1-11*i)*cons,center_g:center_g+(a*cons+1)] = 0\n",
    "                grid[center_g+(2+10*i)*cons:center_g+(8+10*i)*cons,center_g:center_g+(a*cons+1)] = 0\n",
    "                left_bar = center_g-(7-10*i)*cons\n",
    "                right_bar = center_g+(8+10*i)*cons\n",
    "            else:\n",
    "                print('The number of barriers exceeds the grid size')\n",
    "                break\n",
    "\n",
    "                \n",
    "    #grid[0:left_bar-4*cons,center_g:center_g+(a*cons+1)] = 1\n",
    "    #grid[right_bar+5*cons:,center_g:center_g+(a*cons+1)] = 1\n",
    "                \n",
    "    return grid\n",
    "\n",
    "grid = barriers(1000,6)\n",
    "plt.figure(figsize=(14,8))\n",
    "plt.imshow(grid,cmap='turbo')\n",
    "\n",
    "plt.colorbar()\n",
    "plt.show()"
   ]
  },
  {
   "cell_type": "code",
   "execution_count": null,
   "id": "1d244333",
   "metadata": {},
   "outputs": [],
   "source": []
  }
 ],
 "metadata": {
  "kernelspec": {
   "display_name": "labs",
   "language": "python",
   "name": "labs"
  },
  "language_info": {
   "codemirror_mode": {
    "name": "ipython",
    "version": 3
   },
   "file_extension": ".py",
   "mimetype": "text/x-python",
   "name": "python",
   "nbconvert_exporter": "python",
   "pygments_lexer": "ipython3",
   "version": "3.9.7"
  }
 },
 "nbformat": 4,
 "nbformat_minor": 5
}
