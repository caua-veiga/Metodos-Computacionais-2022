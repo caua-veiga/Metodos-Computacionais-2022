{
 "cells": [
  {
   "cell_type": "code",
   "execution_count": 1,
   "id": "41ceb70a",
   "metadata": {},
   "outputs": [
    {
     "ename": "SyntaxError",
     "evalue": "invalid syntax (3767922299.py, line 9)",
     "output_type": "error",
     "traceback": [
      "\u001b[0;36m  File \u001b[0;32m\"/var/folders/8k/t_r4nndd2ll03bmm2zsmmrpc0000gn/T/ipykernel_1833/3767922299.py\"\u001b[0;36m, line \u001b[0;32m9\u001b[0m\n\u001b[0;31m    match n_func:\u001b[0m\n\u001b[0m          ^\u001b[0m\n\u001b[0;31mSyntaxError\u001b[0m\u001b[0;31m:\u001b[0m invalid syntax\n"
     ]
    }
   ],
   "source": [
    "def cond_inicial(x, n_func):\n",
    "        '''\n",
    "        n_func: 0 == função degrau ;\n",
    "                1 == sin^2 ;\n",
    "                2 == cartola ; (activation function)\n",
    "        '''\n",
    "        \n",
    "        # função que define condições iniciais\n",
    "        match n_func:\n",
    "        case 0:\n",
    "            \"\"\"Atribui valor de 1.0 a todas as abcissas menores que 0.1\"\"\"\n",
    "            f = np.zeros_like(x)\n",
    "            f[np.where(x <= 0.1)] = 1.0\n",
    "            return f\n",
    "\n",
    "        case 1:\n",
    "            \"\"\"Uma função suave sin^2 entre x_left e x_right\"\"\"\n",
    "            f       = np.zeros_like(x)\n",
    "            x_left  = 0.25\n",
    "            x_right = 0.75\n",
    "            xm      = (x_right-x_left)/2.0\n",
    "            f       = where((x>x_left) & (x<x_right),\\\n",
    "                            np.sin(np.pi*(x-x_left)/(x_right-x_left))**4,f) \n",
    "            return f\n",
    "\n",
    "        case 2:\n",
    "            \"\"\"Uma função cartola entre x_left and x_right\"\"\"\n",
    "            f       = np.zeros_like(x)\n",
    "            x_left  = 0.25\n",
    "            x_right = 0.75\n",
    "            xm      = (x_right+x_left)/2.0\n",
    "            width   = (x_right-x_left)/2.0\n",
    "            f[np.where(abs(x-xm)< width)] = 1.0\n",
    "            return f \n",
    "        case _:\n",
    "            return None"
   ]
  },
  {
   "cell_type": "code",
   "execution_count": 2,
   "id": "af907ed1",
   "metadata": {},
   "outputs": [
    {
     "ename": "SyntaxError",
     "evalue": "invalid syntax (978868606.py, line 3)",
     "output_type": "error",
     "traceback": [
      "\u001b[0;36m  File \u001b[0;32m\"/var/folders/8k/t_r4nndd2ll03bmm2zsmmrpc0000gn/T/ipykernel_1833/978868606.py\"\u001b[0;36m, line \u001b[0;32m3\u001b[0m\n\u001b[0;31m    match n_func:\u001b[0m\n\u001b[0m          ^\u001b[0m\n\u001b[0;31mSyntaxError\u001b[0m\u001b[0;31m:\u001b[0m invalid syntax\n"
     ]
    }
   ],
   "source": [
    "n_func = int(input('enter value: '))\n",
    "# função que define condições iniciais\n",
    "match n_func:\n",
    "case 0:\n",
    "    \"\"\"Atribui valor de 1.0 a todas as abcissas menores que 0.1\"\"\"\n",
    "    f = np.zeros_like(x)\n",
    "    f[np.where(x <= 0.1)] = 1.0\n",
    "    return f\n",
    "\n",
    "case 1:\n",
    "    \"\"\"Uma função suave sin^2 entre x_left e x_right\"\"\"\n",
    "    f       = np.zeros_like(x)\n",
    "    x_left  = 0.25\n",
    "    x_right = 0.75\n",
    "    xm      = (x_right-x_left)/2.0\n",
    "    f       = where((x>x_left) & (x<x_right),\\\n",
    "                    np.sin(np.pi*(x-x_left)/(x_right-x_left))**4,f) \n",
    "    return f\n",
    "\n",
    "case 2:\n",
    "    \"\"\"Uma função cartola entre x_left and x_right\"\"\"\n",
    "    f       = np.zeros_like(x)\n",
    "    x_left  = 0.25\n",
    "    x_right = 0.75\n",
    "    xm      = (x_right+x_left)/2.0\n",
    "    width   = (x_right-x_left)/2.0\n",
    "    f[np.where(abs(x-xm)< width)] = 1.0\n",
    "    return f \n",
    "case _:\n",
    "    return None"
   ]
  },
  {
   "cell_type": "code",
   "execution_count": 3,
   "id": "fb49478f",
   "metadata": {},
   "outputs": [
    {
     "name": "stdout",
     "output_type": "stream",
     "text": [
      "3.9.7 | packaged by conda-forge | (default, Sep 29 2021, 19:22:19) \n",
      "[Clang 11.1.0 ]\n"
     ]
    }
   ],
   "source": [
    "import sys\n",
    "print(sys.version)"
   ]
  },
  {
   "cell_type": "code",
   "execution_count": 26,
   "id": "f4494f3f",
   "metadata": {},
   "outputs": [],
   "source": [
    "import numpy as np\n",
    "def cond_inicial(x,n_func):\n",
    "        '''\n",
    "        n_func: 0 == função degrau ;\n",
    "                1 == sin^2 ;\n",
    "                2 == cartola ; (activation function)\n",
    "        '''\n",
    "\n",
    "        # função que define condições iniciais\n",
    "        def um(x):\n",
    "            \"\"\"Atribui valor de 1.0 a todas as abcissas menores que 0.1\"\"\"\n",
    "            f = np.zeros_like(x)\n",
    "            f[np.where(x <= 0.1)] = 1.0\n",
    "            return f\n",
    "\n",
    "        def dois(x):\n",
    "            \"\"\"Uma função suave sin^2 entre x_left e x_right\"\"\"\n",
    "            f       = np.zeros_like(x)\n",
    "            x_left  = 0.25\n",
    "            x_right = 0.75\n",
    "            xm      = (x_right-x_left)/2.0\n",
    "            f       = np.where((x>x_left) & (x<x_right),\\\n",
    "                            np.sin(np.pi*(x-x_left)/(x_right-x_left))**4,f) \n",
    "            return f\n",
    "\n",
    "        def tres(x):\n",
    "            \"\"\"Uma função cartola entre x_left and x_right\"\"\"\n",
    "            f       = np.zeros_like(x)\n",
    "            x_left  = 0.25\n",
    "            x_right = 0.75\n",
    "            xm      = (x_right+x_left)/2.0\n",
    "            width   = (x_right-x_left)/2.0\n",
    "            f[np.where(abs(x-xm)< width)] = 1.0\n",
    "            return f \n",
    "        \n",
    "        func = [um,dois,tres][n_func]\n",
    "        \n",
    "        return func(x)"
   ]
  },
  {
   "cell_type": "code",
   "execution_count": 28,
   "id": "c64970bd",
   "metadata": {},
   "outputs": [
    {
     "data": {
      "text/plain": [
       "array([0, 0, 0, 0, 0, 0, 0, 0, 0, 0])"
      ]
     },
     "execution_count": 28,
     "metadata": {},
     "output_type": "execute_result"
    }
   ],
   "source": [
    "teste = cond_inicial(np.arange(0,10),2)\n",
    "teste"
   ]
  },
  {
   "cell_type": "code",
   "execution_count": 22,
   "id": "73a86a90",
   "metadata": {},
   "outputs": [
    {
     "data": {
      "text/plain": [
       "array([1, 0, 0, 0, 0, 0, 0, 0, 0, 0])"
      ]
     },
     "execution_count": 22,
     "metadata": {},
     "output_type": "execute_result"
    }
   ],
   "source": [
    "teste(np.arange(0,10))"
   ]
  },
  {
   "cell_type": "code",
   "execution_count": null,
   "id": "be9cc304",
   "metadata": {},
   "outputs": [],
   "source": []
  }
 ],
 "metadata": {
  "kernelspec": {
   "display_name": "labs",
   "language": "python",
   "name": "labs"
  },
  "language_info": {
   "codemirror_mode": {
    "name": "ipython",
    "version": 3
   },
   "file_extension": ".py",
   "mimetype": "text/x-python",
   "name": "python",
   "nbconvert_exporter": "python",
   "pygments_lexer": "ipython3",
   "version": "3.9.7"
  }
 },
 "nbformat": 4,
 "nbformat_minor": 5
}
