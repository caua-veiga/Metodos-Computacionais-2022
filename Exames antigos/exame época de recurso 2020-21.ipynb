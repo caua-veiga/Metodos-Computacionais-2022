{
 "cells": [
  {
   "cell_type": "markdown",
   "metadata": {},
   "source": [
    "# Exame da época de recurso (F4023 Métodos Computacionais em Engenharia)\n",
    "## 30 de Abril de 2021"
   ]
  },
  {
   "cell_type": "markdown",
   "metadata": {},
   "source": [
    "Um planeta da massa $M$ e raio $R$ é envolvido por uma densa atmosfera de densidade constante $\\rho$ e espessura $2R$. Pretendemos calcular a aceleração gravitacional num ponto a uma distância $2R$ do centro do planeta (na posição do ponto preto na figura). \n",
    "\n",
    "<img src=\"fig_exame_recurso.png\" alt=\"drawing\" width=\"250\"/>\n",
    "\n",
    "a) Escreva as equações que precisa resolver, em unidades físicas. De seguida escale as equações de modo a ter grandezas adimensionais, de ordem unitária."
   ]
  },
  {
   "cell_type": "code",
   "execution_count": null,
   "metadata": {},
   "outputs": [],
   "source": []
  },
  {
   "cell_type": "markdown",
   "metadata": {},
   "source": [
    "b) Escreva um código que lhe permita obter esse valor. Use um método numérico à sua escolha (desde que apropriado!). Tenha atenção às condições fronteira a usar e comente a sua escolha, e a influência dessa escolha no resultado obtido."
   ]
  },
  {
   "cell_type": "code",
   "execution_count": null,
   "metadata": {},
   "outputs": [],
   "source": []
  },
  {
   "cell_type": "markdown",
   "metadata": {},
   "source": [
    "c) Determine o valor pretendido, $\\vec{g}$."
   ]
  },
  {
   "cell_type": "code",
   "execution_count": null,
   "metadata": {},
   "outputs": [],
   "source": []
  },
  {
   "cell_type": "markdown",
   "metadata": {},
   "source": [
    "d) O que pode fazer para melhorar o resultado numérico?(lembre-se que podemos facilmente calcular o resultado analítico!)"
   ]
  },
  {
   "cell_type": "code",
   "execution_count": null,
   "metadata": {},
   "outputs": [],
   "source": []
  },
  {
   "cell_type": "markdown",
   "metadata": {},
   "source": [
    "e) Se pretendermos uma aproximação melhor, podemos usar a descretização do laplaciano com uma fórmula de 9 pontos em vez de 5. Uma possibilidade é:\n",
    "$\\nabla^2u\\approx \\frac{-20u_{i,j} + 4u_{i+1,j} + 4u_{i-1,j} + 4u_{i,j+1} + 4u_{i,j-1} + u_{i+1,j+1} + u_{i−1,j-1} + u_{i+1,j-1} + u_{i-1,j+1}}{6h^2},$\n",
    "\n",
    "que dá uma precisão $\\mathcal{O}(h^4)$.\n",
    "No caso de usar um método de diferenças finitas, como se altera a matriz dos coeficientes? Escreva o comando para produzir os elementos apropriados usando o comando _spdiags_."
   ]
  },
  {
   "cell_type": "code",
   "execution_count": null,
   "metadata": {},
   "outputs": [],
   "source": []
  }
 ],
 "metadata": {
  "kernelspec": {
   "display_name": "Python 3",
   "language": "python",
   "name": "python3"
  },
  "language_info": {
   "codemirror_mode": {
    "name": "ipython",
    "version": 3
   },
   "file_extension": ".py",
   "mimetype": "text/x-python",
   "name": "python",
   "nbconvert_exporter": "python",
   "pygments_lexer": "ipython3",
   "version": "3.7.3"
  },
  "latex_envs": {
   "LaTeX_envs_menu_present": true,
   "autoclose": false,
   "autocomplete": true,
   "bibliofile": "biblio.bib",
   "cite_by": "apalike",
   "current_citInitial": 1,
   "eqLabelWithNumbers": true,
   "eqNumInitial": 1,
   "hotkeys": {
    "equation": "Ctrl-E",
    "itemize": "Ctrl-I"
   },
   "labels_anchors": false,
   "latex_user_defs": false,
   "report_style_numbering": false,
   "user_envs_cfg": false
  }
 },
 "nbformat": 4,
 "nbformat_minor": 2
}
