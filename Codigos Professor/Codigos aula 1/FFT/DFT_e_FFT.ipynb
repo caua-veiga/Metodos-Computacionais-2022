{
 "cells": [
  {
   "cell_type": "markdown",
   "metadata": {},
   "source": [
    "## A transformada discreta de Fourier\n",
    "\n",
    "A FFT (Fast Fourier Transform, transformada rápida de Fourier) é  considerado um dos algoritmos mais importantes de sempre. Tem ordem ${\\mathcal O}(N\\log N)$, quando de um modo simplista parece uma computação ${\\mathcal O}(N^2)$\n",
    "\n",
    "A DFT (Discrete Fourier Transform), tal como a transformada de Fourier, tem também a sua inversa, definidas como:\n",
    "\n",
    "Forward Discrete Fourier Transform (DFT):\n",
    "$$ \n",
    "X_k = \\sum_{n=0}^{N-1} x_n e^{-i 2 \\pi k n /N}\n",
    "$$\n",
    "\n",
    "Inverse Discrete Fourier Transform (IDFT):\n",
    "$$ \n",
    "x_n = \\frac{1}{N} \\sum_{k=0}^{N-1} X_k e^{ i 2 \\pi k n /N}\n",
    "$$\n",
    "\n",
    "Esta transformação, do chamado espaço das configurações ou real, para o espaço das frequências, é muito útil em vários cenários, permitindo analisar sinais, ou resolver problemas doutro modo mais difíceis.\n",
    "\n",
    "Dada a sua importância há várias implementações, sendo a mais rápida (?) a FFTW, que tem versão em Python via o pacote PyFFTW. Usaremos em vez disso a versão existente no Numpy ou Scipy, que são \"wrappers\" para a biblioteca FFTPACK (escrita em Fortran), e encontradas nos submódulos numpy.fft e scipy.fftpack, respectivamente.\n",
    "\n",
    "## Cálculo da Transformada de Fourier Discreta (DFT)\n",
    "\n",
    "A definição acima pode ser escrita como uma operação matricial (já que não é mais que um conjunto de operações lineares)\n",
    "$$\n",
    "\\overrightarrow{X} =M \\cdot \\overrightarrow{x},\n",
    "$$\n",
    "em que a matriz $ M$ é dada por \n",
    "$$ \n",
    "M_{kn} = e^{-i 2 \\pi k n /N}.\n",
    "$$\n",
    "Assim a DFT pode ser calculada, por exemplo, com o código abaixo:"
   ]
  },
  {
   "cell_type": "code",
   "execution_count": 1,
   "metadata": {},
   "outputs": [],
   "source": [
    "import numpy as np\n",
    "def DFT_lenta(x):\n",
    "    \"\"\"Calcula a Transformada de Fourier discreta de um array 1D, x\"\"\"\n",
    "    x = np.asarray(x, dtype=float)\n",
    "    N = x.shape[0]\n",
    "    n = np.arange(N)\n",
    "    k = n.reshape((N, 1))\n",
    "    M = np.exp(-2j * np.pi * k * n / N)\n",
    "    return np.dot(M, x)"
   ]
  },
  {
   "cell_type": "markdown",
   "metadata": {},
   "source": [
    "O resultado pode ser comparado com o obtido pela rotina do numpy, para testar:"
   ]
  },
  {
   "cell_type": "code",
   "execution_count": 2,
   "metadata": {},
   "outputs": [
    {
     "data": {
      "text/plain": [
       "True"
      ]
     },
     "execution_count": 2,
     "metadata": {},
     "output_type": "execute_result"
    }
   ],
   "source": [
    "x = np.random.random(1024)\n",
    "np.allclose(DFT_lenta(x), np.fft.fft(x))"
   ]
  },
  {
   "cell_type": "markdown",
   "metadata": {},
   "source": [
    "Outro ponto a ter em atenção é o tempo que demora. Podemos comparar os tempos de execução das duas via:"
   ]
  },
  {
   "cell_type": "code",
   "execution_count": 3,
   "metadata": {},
   "outputs": [
    {
     "name": "stdout",
     "output_type": "stream",
     "text": [
      "17.6 ms ± 419 µs per loop (mean ± std. dev. of 7 runs, 100 loops each)\n",
      "6.3 µs ± 13.5 ns per loop (mean ± std. dev. of 7 runs, 100000 loops each)\n"
     ]
    }
   ],
   "source": [
    "#import timeit \n",
    "%timeit DFT_lenta(x)\n",
    "%timeit np.fft.fft(x)"
   ]
  },
  {
   "cell_type": "markdown",
   "metadata": {},
   "source": [
    "Bem mais lento! 3 ordens de grandeza, na verdade! Se em vez de 1024 elementos tivessemos $N=10^6$ a fft demoraria uns 40 ms ($15 \\mu s \\times 10^3\\log(10^3$)), mas a nossa rotina demoraria perto de 18 horas ($70 ms \\times (10^3)^2$)! \n",
    "\n",
    "De onde vem toda esta discrepância? O que acontece é que o algoritmo de Cooley-Tukey explora simetrias para reduzir (muito!) o número de cálculos a efectuar.\n",
    "\n",
    "### Simetrias na DFT\n",
    "Calculemos $X_{N+k}$.\n",
    "$$\n",
    "\\begin{align}\n",
    "X_{N+k} &= \\sum_{n=0}^{N-1} x_n e^{-i 2 \\pi (N+k) n /N}\\\\\n",
    "        &= \\sum_{n=0}^{N-1} x_n e^{-i 2 \\pi k n /N} \\cdot e^{-i 2 \\pi N n /N}\\\\\n",
    "        &= \\sum_{n=0}^{N-1} x_n e^{-i 2 \\pi k n /N}\n",
    "\\end{align}\n",
    "$$\n",
    "A última linha mostra uma importante propriedade da DFT:\n",
    "\n",
    "$$\n",
    "X_{N+k}=X_k.\n",
    "$$\n",
    "\n",
    "Uma simples extensão leva a,\n",
    "\n",
    "$$\n",
    "X_{k+i \\cdot N}=X_k\n",
    "$$\n",
    "\n",
    "para qualquer inteiro i. Como veremos de seguida, esta simetria pode ser usada para calcular a DFT muito mais depressa.\n",
    "\n",
    "\n",
    "\n",
    "### De DFT para FFT: explorando a simetria\n",
    "\n",
    "Cooley e Tukey mostraram que é possível dividir o cálculo da DFT em duas partes menores. Da definição anterior de DFT temos:\n",
    "\n",
    "$$\n",
    "\\begin{align}\n",
    "X_k  &=\\sum_{n=0}^{N-1} x_n e^{-i 2 \\pi k n /N}  \\\\\n",
    "     &=\\sum_{m=0}^{N/2-1}x_{2m}\\cdot e^{−i 2 \\pi k (2m) / N} +\\sum_{m=0}^{N/2-1}x_{2m+1} \\cdot e^{−i 2 \\pi k (2m+1) /N}\\\\\n",
    "     & =\\sum_{m=0}^{N/2-1}x_{2m}\\cdot e^{−i 2 \\pi k m / (N/2)} + e^{−i 2 \\pi k / N}\\sum_{m=0}^{N/2-1}x_{2m+1} \\cdot e^{−i 2\\pi k m / (N/2)}\n",
    "\\end{align}\n",
    "$$\n",
    "\n",
    "Assim dividimos uma DFT em dois termos, cada um dos quais se parece muito com uma DFT, mais pequena, uma sobre os valores ímpares e outra sobre os valores pares. Para já ainda não poupamos nada, pois cada termo leva a $(N/2)N$ cálculos, para um total de $N^2$. O truque é usar simetrias em cada um destes termos. Porque k varia em $0\\leq k<N$, enquanto a gama de n é $0\\leq n<M\\equiv N/2$, as propriedades de simetria da secção anterior mostram-nos que só precisamos de fazer metade dos cálculos para cada sub-problema. O problema ${\\mathcal O}(N^2)$ tornou-se ${\\mathcal O}(M^2)$, com M metade de N.\n",
    "\n",
    "Mas podemos continuar a dividir o problema, enquanto M for par, passando o custo computacional a metade de cada vez. No limite assimptótico, este processo recursivo escala como ${\\mathcal O}(N\\log N)$.\n",
    "\n",
    "O algoritmo recursivo pode ser facilmente implementado em Python. Quando o tamanho dos subproblemas for pequeno, podemos retornar a usar nosso código anterior (DFT_lenta):\n"
   ]
  },
  {
   "cell_type": "code",
   "execution_count": 4,
   "metadata": {},
   "outputs": [],
   "source": [
    "def FFT(x):\n",
    "    \"\"\"Implementação recursiva do algoritmo FFT em 1D de Cooley-Tukey\"\"\"\n",
    "    x = np.asarray(x, dtype=float)\n",
    "    N = x.shape[0]\n",
    "    \n",
    "    if N % 2 > 0:\n",
    "        raise ValueError(\"tamanho de x deve ser potência de 2\")\n",
    "    elif N <= 32:  # para não perder tempo quando é muito curta. Não é estritamente necessária.\n",
    "        return DFT_lenta(x)\n",
    "    else:\n",
    "        X_par = FFT(x[::2])\n",
    "        X_impar = FFT(x[1::2])\n",
    "        factor = np.exp(-2j * np.pi * np.arange(N) / N)\n",
    "        \n",
    "        return np.concatenate([X_par + factor[:N // 2] * X_impar,\n",
    "                               X_par + factor[N // 2:] * X_impar])"
   ]
  },
  {
   "cell_type": "markdown",
   "metadata": {},
   "source": [
    "De novo é conveniente verificar que os resultados são os esperados:"
   ]
  },
  {
   "cell_type": "code",
   "execution_count": 5,
   "metadata": {},
   "outputs": [
    {
     "data": {
      "text/plain": [
       "True"
      ]
     },
     "execution_count": 5,
     "metadata": {},
     "output_type": "execute_result"
    }
   ],
   "source": [
    "y = np.random.random(1024)\n",
    "np.allclose(FFT(y), np.fft.fft(y))"
   ]
  },
  {
   "cell_type": "markdown",
   "metadata": {},
   "source": [
    "E também verificar se estamos no caminho certo em termos de produzir um código mais rápido:"
   ]
  },
  {
   "cell_type": "code",
   "execution_count": 6,
   "metadata": {},
   "outputs": [
    {
     "name": "stdout",
     "output_type": "stream",
     "text": [
      "17.4 ms ± 150 µs per loop (mean ± std. dev. of 7 runs, 100 loops each)\n",
      "935 µs ± 1.87 µs per loop (mean ± std. dev. of 7 runs, 1000 loops each)\n",
      "6.43 µs ± 9.61 ns per loop (mean ± std. dev. of 7 runs, 100000 loops each)\n"
     ]
    }
   ],
   "source": [
    "%timeit DFT_lenta(x)\n",
    "%timeit FFT(x)\n",
    "%timeit np.fft.fft(x)"
   ]
  },
  {
   "cell_type": "markdown",
   "metadata": {},
   "source": [
    "Ganhamos mais de uma ordem de grandeza, para o problema pequeno! Melhor ainda, esta versão escala como ${\\mathcal O}(N\\log N)$: temos a nossa própria implementação da Fast Fourier Transform.\n",
    "\n",
    "É claro que também percebemos que ainda estamos longe da FFT do numpy. Isso não é de estranhar. Essa rotina do FFTPACK, escrita em Fortran, tem anos e anos de afinações e optimizações. Ainda por cima a nossa implementação envolve o stack do Python e alocação de arrays temporários, o que adiciona tempo de computação de um modo significativo.\n",
    "\n",
    "Uma estratégia adicional, útil sempre que trabalhamos com Numpy, é vectorizar as operações sobre arrays (isto é, o computador \"percebe\" que vai fazer a mesma coisa muitas vezes sobre elementos independentes, e tenta fazê-las em paralelo). Fazendo isto eliminamos também as chamadas funções recursivas.\n",
    "\n",
    "\n",
    "### Versão Numpy Vectorizada\n",
    "\n",
    "Note-se que na implementação recursiva anterior, no nível mais baixo fazemos $N/32$ produtos matriz-vector idênticas ( o 32 aqui é arbitrário!). A eficiência do algoritmo teria tudo a ganhar ao fazer estas operações todas em \"simultâneo\", como um único produto matriz-matriz. Em cada subnível subsequente da recursão, também fazemos operações duplicadas, que podem ser vectorizadas. O Numpy é muito bom neste tipo de operações, e podemos usar essa funcionalidade para escrever o código seguinte:\n",
    "\n"
   ]
  },
  {
   "cell_type": "code",
   "execution_count": 7,
   "metadata": {},
   "outputs": [],
   "source": [
    "def FFT_vectorizada(x):\n",
    "    \"\"\"Versão vectorizada, não recursiva, da FFT de Cooley-Tukey\"\"\"\n",
    "    x = np.asarray(x, dtype=float)\n",
    "    N = x.shape[0]\n",
    "\n",
    "    if N % 2 > 0:\n",
    "        raise ValueError(\"tamanho de x deve ser potência de 2\")\n",
    "\n",
    "    # N_min aqui é equivalente à condição de paragem acima,\n",
    "    # e deve ser uma potência de 2. Não é estritamente necessária.\n",
    "    N_min = min(N, 32)\n",
    "    \n",
    "    # Faz uma DFT de O[N^2] em todos os sub-problemas de tamanho N_min de uma vez.\n",
    "    n = np.arange(N_min)\n",
    "    k = n[:, None]\n",
    "    M = np.exp(-2j * np.pi * n * k / N_min)\n",
    "    X = np.dot(M, x.reshape((N_min, -1)))\n",
    "\n",
    "    # constrói cada nível do cálculo recursivo de uma vez\n",
    "    while X.shape[0] < N:\n",
    "        X_par = X[:, :X.shape[1] // 2]\n",
    "        X_impar = X[:, X.shape[1] // 2:]\n",
    "        factor = np.exp(-1j * np.pi * np.arange(X.shape[0])\n",
    "                        / X.shape[0])[:, None]\n",
    "        X = np.vstack([X_par + factor * X_impar,\n",
    "                       X_par - factor * X_impar])\n",
    "\n",
    "    return X.ravel()"
   ]
  },
  {
   "cell_type": "markdown",
   "metadata": {},
   "source": [
    "Embora o algoritmo fique mais difícil de seguir (eu sei que disse que é de evitar, mas nas ferramentas mais básicas, frequentemente usadas, e já bem testadas, vale a pena!) só fizemos rearranjos das operações da versão anterior, com uma excepção: exploramos a simetria no cálculo da quantidade `factor` e construímos apenas metade do array.\n",
    "\n",
    "Verifiquemos então mais uma vez que os resultados estão correctos:"
   ]
  },
  {
   "cell_type": "code",
   "execution_count": 8,
   "metadata": {},
   "outputs": [
    {
     "data": {
      "text/plain": [
       "True"
      ]
     },
     "execution_count": 8,
     "metadata": {},
     "output_type": "execute_result"
    }
   ],
   "source": [
    "x = np.random.random(1024)\n",
    "np.allclose(FFT_vectorizada(x), np.fft.fft(x))"
   ]
  },
  {
   "cell_type": "markdown",
   "metadata": {},
   "source": [
    "Como os algoritmos estão a ficar mais eficientes, vamos aumentar o tamanho do array x (retirando a versão DFT_lenta, para não atrasar):"
   ]
  },
  {
   "cell_type": "code",
   "execution_count": 9,
   "metadata": {},
   "outputs": [
    {
     "name": "stdout",
     "output_type": "stream",
     "text": [
      "16 ms ± 35.8 µs per loop (mean ± std. dev. of 7 runs, 100 loops each)\n",
      "1.14 ms ± 47.7 µs per loop (mean ± std. dev. of 7 runs, 1000 loops each)\n",
      "131 µs ± 3.12 µs per loop (mean ± std. dev. of 7 runs, 10000 loops each)\n"
     ]
    }
   ],
   "source": [
    "x = np.random.random(1024 * 16)\n",
    "%timeit FFT(x)\n",
    "%timeit FFT_vectorizada(x)\n",
    "%timeit np.fft.fft(x)"
   ]
  },
  {
   "cell_type": "markdown",
   "metadata": {},
   "source": [
    "Melhoramos o desempenho por mais uma ordem de grandeza! Estamos apenas a um factor de 10 da implementação da FFTPACK, e isto com apenas uma dúzia de linhas de Python puro+Numpy. É evidente qual devemos usar em termos computacionais, mas em termos de legibilidade, pode comparar: o código fonte da versão do FFTPACK pode ser visto [aqui](http://www.netlib.org/fftpack/fft.c) (versão em C)."
   ]
  }
 ],
 "metadata": {
  "kernelspec": {
   "display_name": "Python 3 (ipykernel)",
   "language": "python",
   "name": "python3"
  },
  "language_info": {
   "codemirror_mode": {
    "name": "ipython",
    "version": 3
   },
   "file_extension": ".py",
   "mimetype": "text/x-python",
   "name": "python",
   "nbconvert_exporter": "python",
   "pygments_lexer": "ipython3",
   "version": "3.9.7"
  }
 },
 "nbformat": 4,
 "nbformat_minor": 2
}
